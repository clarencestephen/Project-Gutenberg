{
 "cells": [
  {
   "cell_type": "code",
   "execution_count": 1,
   "metadata": {},
   "outputs": [
    {
     "ename": "NameError",
     "evalue": "name 'movie_likes' is not defined",
     "output_type": "error",
     "traceback": [
      "\u001b[0;31m---------------------------------------------------------------------------\u001b[0m",
      "\u001b[0;31mNameError\u001b[0m                                 Traceback (most recent call last)",
      "\u001b[0;32m<ipython-input-1-7d97b247462f>\u001b[0m in \u001b[0;36m<module>\u001b[0;34m()\u001b[0m\n\u001b[0;32m----> 1\u001b[0;31m \u001b[0mmovie_likes\u001b[0m\u001b[0;34m\u001b[0m\u001b[0m\n\u001b[0m",
      "\u001b[0;31mNameError\u001b[0m: name 'movie_likes' is not defined"
     ]
    }
   ],
   "source": [
    "movie_likes"
   ]
  },
  {
   "cell_type": "code",
   "execution_count": 10,
   "metadata": {},
   "outputs": [],
   "source": [
    "import pandas as pd\n",
    "import numpy as np\n",
    "\n",
    "def rec_movies(movie_id):\n",
    "    \n",
    "    movie_likes = pd.read_csv('./data/user_movie_likes.txt', header=-1)\n",
    "    movie_likes.rename(columns={0: 'userid', 1: 'movieid'}, inplace=True)\n",
    "    movies_df = pd.crosstab(values=movie_likes['movieid'], index=movie_likes['userid'], columns=movie_likes['movieid'], aggfunc='count').replace({np.nan: 0})\n",
    "    user_movie = movies_df.values\n",
    "    movie_user = user_movie.T\n",
    "    movie_corr = np.matmul(movie_user, movie_user.T)\n",
    "    movie_corr_df = pd.DataFrame(data=movie_corr, index=movies_df.columns, columns=movies_df.columns)\n",
    "    \n",
    "    return list(movie_corr_df[movie_id].sort_values(ascending=False)[1:4].index)\n",
    "\n",
    "def rec_movie_user(user_id):\n",
    "    \n",
    "    movie_likes = pd.read_csv('./data/user_movie_likes.txt', header=-1)\n",
    "    movie_likes.rename(columns={0: 'userid', 1: 'movieid'}, inplace=True)\n",
    "    movies_df = pd.crosstab(values=movie_likes['movieid'], index=movie_likes['userid'], columns=movie_likes['movieid'], aggfunc='count').replace({np.nan: 0})\n",
    "    user_movie = movies_df.values\n",
    "    user_corr = np.matmul(user_movie, user_movie.T)\n",
    "    user_corr_df = pd.DataFrame(data=user_corr, index=movies_df.index, columns=movies_df.index)\n",
    "    \n",
    "    sim_users = list(user_corr_df[101].sort_values(ascending=False).index[1:4])\n",
    "    users_df = movies_df.transpose()\n",
    "    \n",
    "    movies_unseen = users_df[sim_users].apply(sum, axis=1) - 3*users_df[user_id]\n",
    "    \n",
    "    return list(movies_unseen.sort_values(ascending=False).index[:3])\n",
    "\n"
   ]
  },
  {
   "cell_type": "code",
   "execution_count": 18,
   "metadata": {},
   "outputs": [],
   "source": [
    "from collections import Counter\n",
    "mu = movie_likes.groupby('movieid')['userid'].apply(lambda i: list(i))\n",
    "um = movie_likes.groupby('userid')['movieid'].apply(lambda i: list(i))\n",
    "\n",
    "def sim_mov(movieid):\n",
    "    l = []\n",
    "    for userid in mu[movieid]:\n",
    "        l.extend(um[userid])\n",
    "    l = [i for i in l if i != movieid]\n",
    "    return [i[0] for i in Counter(l).most_common(3)]\n",
    "\n",
    "def rec_mov(userid):\n",
    "    users = []\n",
    "    for movieid in um[userid]:\n",
    "        users.extend(mu[movieid])\n",
    "    l = []\n",
    "    for userid in set(users):\n",
    "        l.extend(um[userid])\n",
    "    l = [i for i in l if i not in um[userid]]\n",
    "    return [i[0] for i in Counter(l).most_common(3)]"
   ]
  },
  {
   "cell_type": "code",
   "execution_count": null,
   "metadata": {},
   "outputs": [],
   "source": []
  }
 ],
 "metadata": {
  "kernelspec": {
   "display_name": "Python 3",
   "language": "python",
   "name": "python3"
  },
  "language_info": {
   "codemirror_mode": {
    "name": "ipython",
    "version": 3
   },
   "file_extension": ".py",
   "mimetype": "text/x-python",
   "name": "python",
   "nbconvert_exporter": "python",
   "pygments_lexer": "ipython3",
   "version": "3.6.6"
  }
 },
 "nbformat": 4,
 "nbformat_minor": 2
}
